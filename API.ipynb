{
 "cells": [
  {
   "cell_type": "code",
   "execution_count": 1,
   "id": "f0414eb5",
   "metadata": {},
   "outputs": [
    {
     "name": "stdout",
     "output_type": "stream",
     "text": [
      "Collecting Flask\n",
      "  Downloading Flask-2.0.2-py3-none-any.whl (95 kB)\n",
      "\u001b[K     |████████████████████████████████| 95 kB 144 kB/s eta 0:00:01\n",
      "\u001b[?25hRequirement already satisfied, skipping upgrade: Jinja2>=3.0 in /home/roblak96/anaconda3/envs/ironhack/lib/python3.8/site-packages (from Flask) (3.0.3)\n",
      "Collecting itsdangerous>=2.0\n",
      "  Downloading itsdangerous-2.0.1-py3-none-any.whl (18 kB)\n",
      "Collecting Werkzeug>=2.0\n",
      "  Downloading Werkzeug-2.0.2-py3-none-any.whl (288 kB)\n",
      "\u001b[K     |████████████████████████████████| 288 kB 6.8 MB/s eta 0:00:01\n",
      "\u001b[?25hCollecting click>=7.1.2\n",
      "  Downloading click-8.0.3-py3-none-any.whl (97 kB)\n",
      "\u001b[K     |████████████████████████████████| 97 kB 319 kB/s  eta 0:00:01\n",
      "\u001b[?25hRequirement already satisfied, skipping upgrade: MarkupSafe>=2.0 in /home/roblak96/anaconda3/envs/ironhack/lib/python3.8/site-packages (from Jinja2>=3.0->Flask) (2.0.1)\n",
      "Installing collected packages: itsdangerous, Werkzeug, click, Flask\n",
      "Successfully installed Flask-2.0.2 Werkzeug-2.0.2 click-8.0.3 itsdangerous-2.0.1\n",
      "Collecting flask_restful\n",
      "  Downloading Flask_RESTful-0.3.9-py2.py3-none-any.whl (25 kB)\n",
      "Requirement already satisfied: six>=1.3.0 in /home/roblak96/anaconda3/envs/ironhack/lib/python3.8/site-packages (from flask_restful) (1.15.0)\n",
      "Requirement already satisfied: Flask>=0.8 in /home/roblak96/anaconda3/envs/ironhack/lib/python3.8/site-packages (from flask_restful) (2.0.2)\n",
      "Requirement already satisfied: pytz in /home/roblak96/anaconda3/envs/ironhack/lib/python3.8/site-packages (from flask_restful) (2021.3)\n",
      "Collecting aniso8601>=0.82\n",
      "  Downloading aniso8601-9.0.1-py2.py3-none-any.whl (52 kB)\n",
      "\u001b[K     |████████████████████████████████| 52 kB 50 kB/s  eta 0:00:01\n",
      "\u001b[?25hRequirement already satisfied: Werkzeug>=2.0 in /home/roblak96/anaconda3/envs/ironhack/lib/python3.8/site-packages (from Flask>=0.8->flask_restful) (2.0.2)\n",
      "Requirement already satisfied: Jinja2>=3.0 in /home/roblak96/anaconda3/envs/ironhack/lib/python3.8/site-packages (from Flask>=0.8->flask_restful) (3.0.3)\n",
      "Requirement already satisfied: click>=7.1.2 in /home/roblak96/anaconda3/envs/ironhack/lib/python3.8/site-packages (from Flask>=0.8->flask_restful) (8.0.3)\n",
      "Requirement already satisfied: itsdangerous>=2.0 in /home/roblak96/anaconda3/envs/ironhack/lib/python3.8/site-packages (from Flask>=0.8->flask_restful) (2.0.1)\n",
      "Requirement already satisfied: MarkupSafe>=2.0 in /home/roblak96/anaconda3/envs/ironhack/lib/python3.8/site-packages (from Jinja2>=3.0->Flask>=0.8->flask_restful) (2.0.1)\n",
      "Installing collected packages: aniso8601, flask-restful\n",
      "Successfully installed aniso8601-9.0.1 flask-restful-0.3.9\n"
     ]
    }
   ],
   "source": [
    "!pip install -U Flask\n",
    "!pip install flask_restful"
   ]
  },
  {
   "cell_type": "code",
   "execution_count": 2,
   "id": "2e9a9c29",
   "metadata": {},
   "outputs": [],
   "source": [
    "from flask import Flask\n",
    "from flask_restful import Resource, Api"
   ]
  },
  {
   "cell_type": "code",
   "execution_count": 4,
   "id": "6ef3ba7b",
   "metadata": {},
   "outputs": [],
   "source": [
    "app = Flask(__name__)\n",
    "api = Api(app)"
   ]
  },
  {
   "cell_type": "code",
   "execution_count": 5,
   "id": "71f3ff1e",
   "metadata": {},
   "outputs": [],
   "source": [
    "class Hello(Resource):\n",
    "    def get(self, name):\n",
    "        return {\"Hello\":name}"
   ]
  },
  {
   "cell_type": "code",
   "execution_count": 7,
   "id": "aab6703f",
   "metadata": {},
   "outputs": [],
   "source": [
    "api.add_resource(Hello, '/hello/<name>')"
   ]
  },
  {
   "cell_type": "code",
   "execution_count": null,
   "id": "507ae642",
   "metadata": {},
   "outputs": [
    {
     "name": "stdout",
     "output_type": "stream",
     "text": [
      " * Serving Flask app '__main__' (lazy loading)\n",
      " * Environment: production\n",
      "\u001b[31m   WARNING: This is a development server. Do not use it in a production deployment.\u001b[0m\n",
      "\u001b[2m   Use a production WSGI server instead.\u001b[0m\n",
      " * Debug mode: on\n"
     ]
    },
    {
     "name": "stderr",
     "output_type": "stream",
     "text": [
      " * Running on http://127.0.0.1:5000/ (Press CTRL+C to quit)\n",
      " * Restarting with stat\n"
     ]
    }
   ],
   "source": [
    "if __name__ == '__main__':\n",
    " app.run(debug=True)"
   ]
  },
  {
   "cell_type": "code",
   "execution_count": null,
   "id": "afd38df0",
   "metadata": {},
   "outputs": [],
   "source": [
    "python api.py"
   ]
  },
  {
   "cell_type": "code",
   "execution_count": null,
   "id": "5fb1c514",
   "metadata": {},
   "outputs": [],
   "source": [
    "#  http://localhost:5000/hello/world"
   ]
  },
  {
   "cell_type": "code",
   "execution_count": null,
   "id": "05399e05",
   "metadata": {},
   "outputs": [],
   "source": [
    "# Tras el proceso anterior, se supone que debería llevanros a la Api creada, pero no acaba de cargar la página no sé muy bien\n",
    "# por qué"
   ]
  },
  {
   "cell_type": "code",
   "execution_count": null,
   "id": "6d1f3ec1",
   "metadata": {},
   "outputs": [],
   "source": []
  }
 ],
 "metadata": {
  "kernelspec": {
   "display_name": "ironhack",
   "language": "python",
   "name": "ironhack"
  },
  "language_info": {
   "codemirror_mode": {
    "name": "ipython",
    "version": 3
   },
   "file_extension": ".py",
   "mimetype": "text/x-python",
   "name": "python",
   "nbconvert_exporter": "python",
   "pygments_lexer": "ipython3",
   "version": "3.8.5"
  }
 },
 "nbformat": 4,
 "nbformat_minor": 5
}
